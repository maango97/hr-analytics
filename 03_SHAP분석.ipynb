{
 "cells": [
  {
   "cell_type": "code",
   "execution_count": 1,
   "id": "cc04e562-30f8-4f25-900e-cd81cae33d3a",
   "metadata": {},
   "outputs": [
    {
     "name": "stdout",
     "output_type": "stream",
     "text": [
      "Collecting shap\n",
      "  Using cached shap-0.46.0-cp312-cp312-macosx_11_0_arm64.whl.metadata (24 kB)\n",
      "Requirement already satisfied: numpy in /opt/anaconda3/lib/python3.12/site-packages (from shap) (1.26.4)\n",
      "Requirement already satisfied: scipy in /opt/anaconda3/lib/python3.12/site-packages (from shap) (1.13.1)\n",
      "Requirement already satisfied: scikit-learn in /opt/anaconda3/lib/python3.12/site-packages (from shap) (1.5.1)\n",
      "Requirement already satisfied: pandas in /opt/anaconda3/lib/python3.12/site-packages (from shap) (2.2.2)\n",
      "Requirement already satisfied: tqdm>=4.27.0 in /opt/anaconda3/lib/python3.12/site-packages (from shap) (4.66.5)\n",
      "Requirement already satisfied: packaging>20.9 in /opt/anaconda3/lib/python3.12/site-packages (from shap) (24.1)\n",
      "Collecting slicer==0.0.8 (from shap)\n",
      "  Using cached slicer-0.0.8-py3-none-any.whl.metadata (4.0 kB)\n",
      "Requirement already satisfied: numba in /opt/anaconda3/lib/python3.12/site-packages (from shap) (0.60.0)\n",
      "Requirement already satisfied: cloudpickle in /opt/anaconda3/lib/python3.12/site-packages (from shap) (3.0.0)\n",
      "Requirement already satisfied: llvmlite<0.44,>=0.43.0dev0 in /opt/anaconda3/lib/python3.12/site-packages (from numba->shap) (0.43.0)\n",
      "Requirement already satisfied: python-dateutil>=2.8.2 in /opt/anaconda3/lib/python3.12/site-packages (from pandas->shap) (2.9.0.post0)\n",
      "Requirement already satisfied: pytz>=2020.1 in /opt/anaconda3/lib/python3.12/site-packages (from pandas->shap) (2024.1)\n",
      "Requirement already satisfied: tzdata>=2022.7 in /opt/anaconda3/lib/python3.12/site-packages (from pandas->shap) (2023.3)\n",
      "Requirement already satisfied: joblib>=1.2.0 in /opt/anaconda3/lib/python3.12/site-packages (from scikit-learn->shap) (1.4.2)\n",
      "Requirement already satisfied: threadpoolctl>=3.1.0 in /opt/anaconda3/lib/python3.12/site-packages (from scikit-learn->shap) (3.5.0)\n",
      "Requirement already satisfied: six>=1.5 in /opt/anaconda3/lib/python3.12/site-packages (from python-dateutil>=2.8.2->pandas->shap) (1.16.0)\n",
      "Using cached shap-0.46.0-cp312-cp312-macosx_11_0_arm64.whl (455 kB)\n",
      "Using cached slicer-0.0.8-py3-none-any.whl (15 kB)\n",
      "Installing collected packages: slicer, shap\n",
      "Successfully installed shap-0.46.0 slicer-0.0.8\n"
     ]
    }
   ],
   "source": [
    "!pip install shap"
   ]
  },
  {
   "cell_type": "code",
   "execution_count": null,
   "id": "f97bd0e6-0a05-4b70-92a5-889c5aaa3113",
   "metadata": {},
   "outputs": [],
   "source": [
    "import shap\n",
    "import numpy as np\n",
    "import pandas as pd\n",
    "from sklearn.preprocessing import MinMaxScaler\n",
    "from sklearn.model_selection import train_test_split\n",
    "import tensorflow as tf\n",
    "\n",
    "# 모델 파일 경로\n",
    "model_path = '/Users/jiminsim/Desktop/project/HR/IBM_model_1.keras'\n",
    "\n",
    "# 모델 로드\n",
    "model = tf.keras.models.load_model(model_path)\n",
    "\n",
    "# 데이터 로드\n",
    "df = pd.read_csv('/Users/jiminsim/Desktop/project/HR/전처리 데이터/IBM_2.csv')\n",
    "\n",
    "# 파생 변수 추가\n",
    "df['Long_Distance'] = df['DistanceFromHome'].apply(lambda x: 1 if x > 10 else 0)\n",
    "\n",
    "# 종속 변수와 독립 변수 분리\n",
    "X = df.drop('Attrition', axis=1)  \n",
    "y = df['Attrition']\n",
    "\n",
    "# 데이터 정규화\n",
    "scaler = MinMaxScaler()\n",
    "X = scaler.fit_transform(X)\n",
    "\n",
    "# 학습 및 테스트 데이터 분할\n",
    "X_train, X_test, y_train, y_test = train_test_split(X, y, test_size=0.2, random_state=42)\n",
    "\n",
    "# SHAP Explainer 생성\n",
    "explainer = shap.KernelExplainer(model.predict, X_train)  # 전체 데이터를 사용\n",
    "\n",
    "# SHAP 값 계산\n",
    "shap_values = explainer.shap_values(X_test)  # 전체 테스트 데이터를 사용\n",
    "\n",
    "# shap_values 차원 확인\n",
    "print(\"shap_values 차원:\", np.array(shap_values).shape)\n",
    "\n",
    "# shap_values의 마지막 차원을 제거 (len(X_test), 30) 형태로 변환\n",
    "shap_values = np.squeeze(shap_values, axis=-1)\n",
    "print(\"차원 변환 후 shap_values 차원:\", shap_values.shape)\n",
    "\n",
    "# SHAP 시각화 (변수 중요도)\n",
    "X_test2 = pd.DataFrame(X_test, columns=df.drop('Attrition', axis=1).columns)  # 전체 테스트 데이터 사용\n",
    "\n",
    "# 모든 피처를 표시하도록 설정\n",
    "shap.summary_plot(shap_values, X_test2, feature_names=X_test2.columns, max_display=len(X_test2.columns))\n"
   ]
  }
 ],
 "metadata": {
  "kernelspec": {
   "display_name": "Python 3 (ipykernel)",
   "language": "python",
   "name": "python3"
  },
  "language_info": {
   "codemirror_mode": {
    "name": "ipython",
    "version": 3
   },
   "file_extension": ".py",
   "mimetype": "text/x-python",
   "name": "python",
   "nbconvert_exporter": "python",
   "pygments_lexer": "ipython3",
   "version": "3.12.7"
  }
 },
 "nbformat": 4,
 "nbformat_minor": 5
}
