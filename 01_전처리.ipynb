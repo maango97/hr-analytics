{
 "cells": [
  {
   "cell_type": "code",
   "execution_count": 8,
   "id": "8c96dcd5-6e86-4761-a45b-9dd323c21c73",
   "metadata": {},
   "outputs": [],
   "source": [
    "import pandas as pd\n",
    "\n",
    "# 데이터 불러오기\n",
    "df = pd.read_csv('/Users/jiminsim/Desktop/project/HR/원본 데이터/IBM_1.csv')\n",
    "\n",
    "# 파생 변수 추가\n",
    "df['WorkingHour'] = ((df['MonthlyIncome'] / df['DailyRate']) * (df['DailyRate'] / df['HourlyRate'])).round()\n",
    "\n",
    "# 삭제할 컬럼들 목록\n",
    "columns_to_drop = ['EmployeeCount', 'Over18', 'StandardHours', 'DailyRate', 'HourlyRate', 'MonthlyRate']\n",
    "\n",
    "# 지정한 컬럼들 삭제\n",
    "df = df.drop(columns=columns_to_drop, errors='ignore')"
   ]
  },
  {
   "cell_type": "code",
   "execution_count": 2,
   "id": "975a2d31-eec4-4beb-ae80-07365ec7ed6a",
   "metadata": {},
   "outputs": [],
   "source": [
    "# Attrition - Yes를 1, No를 2로 인코딩\n",
    "df['Attrition'] = df['Attrition'].map({'Yes': 1, 'No': 0})\n",
    "\n",
    "# BusinessTravel - Non-Travel, Travel_Rarely, Travel_Frequently를 1, 2, 3으로 인코딩\n",
    "df['BusinessTravel'] = df['BusinessTravel'].map({'Non-Travel': 1, 'Travel_Rarely': 2, 'Travel_Frequently': 3})\n",
    "\n",
    "# Department - Sales, Research & Development, Human Resources를 1, 2, 3으로 인코딩\n",
    "df['Department'] = df['Department'].map({'Sales': 1, 'Research & Development': 2, 'Human Resources': 3})\n",
    "\n",
    "# JobRole - 각각 직무를 1~9로 인코딩 \n",
    "df['JobRole'] = df['JobRole'].map({\n",
    "    'Sales Executive': 1,\n",
    "    'Research Scientist': 2,\n",
    "    'Laboratory Technician': 3,\n",
    "    'Manufacturing Director': 4,\n",
    "    'Healthcare Representative': 5,\n",
    "    'Manager': 6,\n",
    "    'Sales Representative': 7,\n",
    "    'Research Director': 8,\n",
    "    'Human Resources': 9\n",
    "})\n",
    "\n",
    "# MaritalStatus - Single을 1, Married를 2, Divorced를 3으로 인코딩\n",
    "df['MaritalStatus'] = df['MaritalStatus'].map({\n",
    "    'Single': 1,\n",
    "    'Married': 2,\n",
    "    'Divorced': 3\n",
    "})\n",
    "\n",
    "# OverTime - Yes를 1, No를 2로 인코딩\n",
    "df['OverTime'] = df['OverTime'].map({'Yes': 1, 'No': 0})\n",
    "\n",
    "# Gender - Female을 1, Male을 0으로 인코딩\n",
    "df['Gender'] = df['Gender'].map({'Female': 1, 'Male': 0})\n",
    "\n",
    "# EducationField - 1. Other, 2. Life Sciences, 3.Marketing, 4.Technical Degree, 5. Human Resources, 6.Medical으로 인코딩\n",
    "df['EducationField'] = df['EducationField'].map({'Other': 1, 'Life Sciences': 2,\n",
    "                                                 'Marketing': 3, 'Technical Degree': 4,\n",
    "                                                 'Human Resources': 5, 'Medical': 6})\n",
    "\n",
    "# 전처리 데이터 저장\n",
    "df.to_csv('/Users/jiminsim/Desktop/project/HR/전처리 데이터/IBM_2.csv', index=False)\n"
   ]
  }
 ],
 "metadata": {
  "kernelspec": {
   "display_name": "Python 3 (ipykernel)",
   "language": "python",
   "name": "python3"
  },
  "language_info": {
   "codemirror_mode": {
    "name": "ipython",
    "version": 3
   },
   "file_extension": ".py",
   "mimetype": "text/x-python",
   "name": "python",
   "nbconvert_exporter": "python",
   "pygments_lexer": "ipython3",
   "version": "3.12.7"
  }
 },
 "nbformat": 4,
 "nbformat_minor": 5
}
